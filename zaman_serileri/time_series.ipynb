{
 "cells": [
  {
   "cell_type": "markdown",
   "id": "e45923a2-885c-4bd9-97cf-90318b4433ac",
   "metadata": {},
   "source": [
    "## Zaman Serilerinin Temelleri (Time Series Basics)"
   ]
  },
  {
   "cell_type": "code",
   "execution_count": 1,
   "id": "0927fc14-9e5d-4afb-add4-bd24ebd580b2",
   "metadata": {},
   "outputs": [],
   "source": [
    "import pandas as pd\n",
    "import numpy as np\n",
    "from datetime import datetime"
   ]
  },
  {
   "cell_type": "code",
   "execution_count": 2,
   "id": "97022e31-4784-482f-b344-baae443540bd",
   "metadata": {},
   "outputs": [],
   "source": [
    "date=[datetime(2020,1,5),\n",
    "      datetime(2020,1,10),\n",
    "      datetime(2020,1,15),\n",
    "      datetime(2020,1,20),\n",
    "      datetime(2020,1,25)] \n",
    "#bu bizim tarih nesnemiz."
   ]
  },
  {
   "cell_type": "code",
   "execution_count": 3,
   "id": "41d4e0b7-dffd-4b0a-9772-0561f24bd808",
   "metadata": {},
   "outputs": [
    {
     "data": {
      "text/plain": [
       "2020-01-05   -0.725464\n",
       "2020-01-10    2.243310\n",
       "2020-01-15   -2.113948\n",
       "2020-01-20   -2.456400\n",
       "2020-01-25   -0.931941\n",
       "dtype: float64"
      ]
     },
     "execution_count": 3,
     "metadata": {},
     "output_type": "execute_result"
    }
   ],
   "source": [
    "ts=pd.Series(np.random.randn(5),index=date)\n",
    "ts\n",
    "#indeksi bu tarih yapısı olan bir series oluşturduk."
   ]
  },
  {
   "cell_type": "code",
   "execution_count": 4,
   "id": "d4aee75f-7fd3-4e13-8a8e-510824fe3b8f",
   "metadata": {},
   "outputs": [
    {
     "data": {
      "text/plain": [
       "DatetimeIndex(['2020-01-05', '2020-01-10', '2020-01-15', '2020-01-20',\n",
       "               '2020-01-25'],\n",
       "              dtype='datetime64[ns]', freq=None)"
      ]
     },
     "execution_count": 4,
     "metadata": {},
     "output_type": "execute_result"
    }
   ],
   "source": [
    "ts.index"
   ]
  },
  {
   "cell_type": "code",
   "execution_count": 5,
   "id": "7389a2df-dc84-4301-a412-ec26a085a960",
   "metadata": {},
   "outputs": [
    {
     "data": {
      "text/plain": [
       "Timestamp('2020-01-01 00:00:00')"
      ]
     },
     "execution_count": 5,
     "metadata": {},
     "output_type": "execute_result"
    }
   ],
   "source": [
    "pd.to_datetime(\"01/01/2020\") \n",
    "#tek bir tarihi zaman damgasına çevirmek için pd.to_datetime fonksiyonu kullanılır.Zaman damgalı tarih oluşturmuş olduk."
   ]
  },
  {
   "cell_type": "code",
   "execution_count": 6,
   "id": "0e50a93b-f555-4053-b82f-98c4ad90c48c",
   "metadata": {},
   "outputs": [
    {
     "data": {
      "text/plain": [
       "DatetimeIndex(['2020-07-05', '2020-07-06', '2020-07-07', '2020-07-08'], dtype='datetime64[ns]', freq=None)"
      ]
     },
     "execution_count": 6,
     "metadata": {},
     "output_type": "execute_result"
    }
   ],
   "source": [
    "dates=pd.to_datetime(\n",
    "    [datetime(2020,7,5),\n",
    "     \"6th of July, 2020\",\n",
    "     \"2020-Jul-7\",\n",
    "     \"20200708\"])\n",
    "dates\n",
    "#farklı formatlardaki tarihleri datetime indeks nesnesine çevirdik."
   ]
  },
  {
   "cell_type": "code",
   "execution_count": 7,
   "id": "5b70b74d-9edd-4d8c-b5ca-7ab7a6a0e890",
   "metadata": {},
   "outputs": [
    {
     "data": {
      "text/plain": [
       "PeriodIndex(['2020-07-05', '2020-07-06', '2020-07-07', '2020-07-08'], dtype='period[D]')"
      ]
     },
     "execution_count": 7,
     "metadata": {},
     "output_type": "execute_result"
    }
   ],
   "source": [
    "dates.to_period(\"D\")\n",
    "#indeks yapısını periyot indeks yapısına çevirdik."
   ]
  },
  {
   "cell_type": "code",
   "execution_count": 8,
   "id": "b2e9486f-af05-4204-ab38-64ff9eb414c1",
   "metadata": {},
   "outputs": [
    {
     "data": {
      "text/plain": [
       "TimedeltaIndex(['0 days', '1 days', '2 days', '3 days'], dtype='timedelta64[ns]', freq=None)"
      ]
     },
     "execution_count": 8,
     "metadata": {},
     "output_type": "execute_result"
    }
   ],
   "source": [
    "dates - dates[0]\n",
    "#timedelta indeks yapısında bir veri oluşmuş oldu."
   ]
  },
  {
   "cell_type": "code",
   "execution_count": 9,
   "id": "be993c77-dd14-4466-b1f8-c30b7e3bc8e9",
   "metadata": {},
   "outputs": [
    {
     "data": {
      "text/plain": [
       "DatetimeIndex(['2020-08-15', '2020-08-16', '2020-08-17', '2020-08-18',\n",
       "               '2020-08-19', '2020-08-20', '2020-08-21', '2020-08-22',\n",
       "               '2020-08-23', '2020-08-24', '2020-08-25', '2020-08-26',\n",
       "               '2020-08-27', '2020-08-28', '2020-08-29', '2020-08-30',\n",
       "               '2020-08-31', '2020-09-01'],\n",
       "              dtype='datetime64[ns]', freq='D')"
      ]
     },
     "execution_count": 9,
     "metadata": {},
     "output_type": "execute_result"
    }
   ],
   "source": [
    "pd.date_range(\"2020-08-15\",\"2020-09-01\") \n",
    "#düzenli tarih serileri oluşturmak için pandas çeşitli fonksiyonları vardır."
   ]
  },
  {
   "cell_type": "code",
   "execution_count": 10,
   "id": "fecd335e-afec-42bb-b089-4ab9091fae73",
   "metadata": {},
   "outputs": [
    {
     "data": {
      "text/plain": [
       "DatetimeIndex(['2020-07-15', '2020-07-16', '2020-07-17', '2020-07-18',\n",
       "               '2020-07-19', '2020-07-20', '2020-07-21', '2020-07-22',\n",
       "               '2020-07-23', '2020-07-24'],\n",
       "              dtype='datetime64[ns]', freq='D')"
      ]
     },
     "execution_count": 10,
     "metadata": {},
     "output_type": "execute_result"
    }
   ],
   "source": [
    "pd.date_range('2020-07-15', periods=10)"
   ]
  },
  {
   "cell_type": "code",
   "execution_count": 11,
   "id": "0ba80be4-5be3-4a97-9027-d0954a2961d0",
   "metadata": {},
   "outputs": [
    {
     "data": {
      "text/plain": [
       "DatetimeIndex(['2020-07-15 00:00:00', '2020-07-15 01:00:00',\n",
       "               '2020-07-15 02:00:00', '2020-07-15 03:00:00',\n",
       "               '2020-07-15 04:00:00', '2020-07-15 05:00:00',\n",
       "               '2020-07-15 06:00:00', '2020-07-15 07:00:00',\n",
       "               '2020-07-15 08:00:00', '2020-07-15 09:00:00'],\n",
       "              dtype='datetime64[ns]', freq='H')"
      ]
     },
     "execution_count": 11,
     "metadata": {},
     "output_type": "execute_result"
    }
   ],
   "source": [
    "pd.date_range(\"2020-07-15\",\n",
    "              periods=10,\n",
    "              freq=\"H\")\n",
    "#Burada frekansımız saat olan H yazıldı."
   ]
  },
  {
   "cell_type": "code",
   "execution_count": 12,
   "id": "b4d3adfe-d87d-42a9-aede-6c7e3e0d6072",
   "metadata": {},
   "outputs": [
    {
     "data": {
      "text/plain": [
       "PeriodIndex(['2020-10', '2020-11', '2020-12', '2021-01', '2021-02', '2021-03',\n",
       "             '2021-04', '2021-05', '2021-06', '2021-07'],\n",
       "            dtype='period[M]')"
      ]
     },
     "execution_count": 12,
     "metadata": {},
     "output_type": "execute_result"
    }
   ],
   "source": [
    "pd.period_range(\"2020-10\", \n",
    "                periods=10,\n",
    "                freq=\"M\")\n",
    "#Burada frekansımız aylık olan M'dir."
   ]
  },
  {
   "cell_type": "code",
   "execution_count": 13,
   "id": "6a023a7a-58fe-42d3-a2a9-d240a744f515",
   "metadata": {},
   "outputs": [
    {
     "data": {
      "text/plain": [
       "TimedeltaIndex(['0 days 00:00:00', '0 days 01:00:00', '0 days 02:00:00',\n",
       "                '0 days 03:00:00', '0 days 04:00:00', '0 days 05:00:00',\n",
       "                '0 days 06:00:00', '0 days 07:00:00'],\n",
       "               dtype='timedelta64[ns]', freq='H')"
      ]
     },
     "execution_count": 13,
     "metadata": {},
     "output_type": "execute_result"
    }
   ],
   "source": [
    "pd.timedelta_range(0,periods=8,freq=\"H\")\n",
    "#1 saatlik artış olan süre serisi yazılmış oldu."
   ]
  },
  {
   "cell_type": "code",
   "execution_count": 14,
   "id": "f655e078-2bc3-4acf-8768-2aa866fa9a0d",
   "metadata": {},
   "outputs": [
    {
     "data": {
      "text/plain": [
       "2020-01-05   -0.725464\n",
       "2020-01-10    2.243310\n",
       "2020-01-15   -2.113948\n",
       "2020-01-20   -2.456400\n",
       "2020-01-25   -0.931941\n",
       "dtype: float64"
      ]
     },
     "execution_count": 14,
     "metadata": {},
     "output_type": "execute_result"
    }
   ],
   "source": [
    "ts"
   ]
  },
  {
   "cell_type": "code",
   "execution_count": 15,
   "id": "2a61e836-431f-415e-9d84-6ae11c2563fa",
   "metadata": {},
   "outputs": [
    {
     "data": {
      "text/plain": [
       "Timestamp('2020-01-10 00:00:00')"
      ]
     },
     "execution_count": 15,
     "metadata": {},
     "output_type": "execute_result"
    }
   ],
   "source": [
    "stamp=ts.index[1]\n",
    "stamp"
   ]
  },
  {
   "cell_type": "code",
   "execution_count": 16,
   "id": "52daf54d-be88-41d3-9493-0d6dfc9293e8",
   "metadata": {},
   "outputs": [
    {
     "data": {
      "text/plain": [
       "2.2433097358515117"
      ]
     },
     "execution_count": 16,
     "metadata": {},
     "output_type": "execute_result"
    }
   ],
   "source": [
    "ts[stamp]"
   ]
  },
  {
   "cell_type": "code",
   "execution_count": 17,
   "id": "f5637cf1-1b03-4a9f-b5a2-4714a96810bb",
   "metadata": {},
   "outputs": [
    {
     "data": {
      "text/plain": [
       "-0.931941044157666"
      ]
     },
     "execution_count": 17,
     "metadata": {},
     "output_type": "execute_result"
    }
   ],
   "source": [
    "ts[\"25.1.2020\"]"
   ]
  },
  {
   "cell_type": "code",
   "execution_count": 18,
   "id": "36485c50-cca6-4508-9126-b6d3b6c6c4b5",
   "metadata": {},
   "outputs": [
    {
     "data": {
      "text/plain": [
       "-0.931941044157666"
      ]
     },
     "execution_count": 18,
     "metadata": {},
     "output_type": "execute_result"
    }
   ],
   "source": [
    "ts[\"20200125\"]"
   ]
  },
  {
   "cell_type": "code",
   "execution_count": 19,
   "id": "a6941456-0cf2-4a2e-a94b-35649439f92c",
   "metadata": {},
   "outputs": [
    {
     "data": {
      "text/plain": [
       "2020-01-01    0.656305\n",
       "2020-01-02    1.000173\n",
       "2020-01-03   -0.256255\n",
       "2020-01-04    0.096813\n",
       "2020-01-05   -0.517981\n",
       "Freq: D, dtype: float64"
      ]
     },
     "execution_count": 19,
     "metadata": {},
     "output_type": "execute_result"
    }
   ],
   "source": [
    "long_ts=pd.Series(\n",
    "    np.random.randn(1000),\n",
    "    index=pd.date_range(\"1/1/2020\",\n",
    "                        periods=1000))\n",
    "long_ts.head()\n"
   ]
  },
  {
   "cell_type": "code",
   "execution_count": 21,
   "id": "ab2366c4-fcf9-4a6b-9b30-27df6ed86a31",
   "metadata": {},
   "outputs": [
    {
     "data": {
      "text/plain": [
       "2020-01-01    0.656305\n",
       "2020-01-02    1.000173\n",
       "2020-01-03   -0.256255\n",
       "2020-01-04    0.096813\n",
       "2020-01-05   -0.517981\n",
       "Freq: D, dtype: float64"
      ]
     },
     "execution_count": 21,
     "metadata": {},
     "output_type": "execute_result"
    }
   ],
   "source": [
    "long_ts[\"2020\"].head()"
   ]
  },
  {
   "cell_type": "code",
   "execution_count": 22,
   "id": "6256d63a-31c1-49de-87e1-d3e62bc03a8f",
   "metadata": {},
   "outputs": [
    {
     "data": {
      "text/plain": [
       "2022-09-20    2.188051\n",
       "2022-09-21   -0.032697\n",
       "2022-09-22    0.849236\n",
       "2022-09-23   -0.723886\n",
       "2022-09-24    0.287534\n",
       "2022-09-25    0.073994\n",
       "2022-09-26   -1.132905\n",
       "Freq: D, dtype: float64"
      ]
     },
     "execution_count": 22,
     "metadata": {},
     "output_type": "execute_result"
    }
   ],
   "source": [
    "long_ts[datetime(2022,9,20):]"
   ]
  },
  {
   "cell_type": "code",
   "execution_count": 23,
   "id": "64cf1d84-26af-413e-b3eb-5deff0bf6413",
   "metadata": {},
   "outputs": [
    {
     "data": {
      "text/plain": [
       "2020-01-05   -0.725464\n",
       "2020-01-10    2.243310\n",
       "2020-01-15   -2.113948\n",
       "2020-01-20   -2.456400\n",
       "2020-01-25   -0.931941\n",
       "dtype: float64"
      ]
     },
     "execution_count": 23,
     "metadata": {},
     "output_type": "execute_result"
    }
   ],
   "source": [
    "ts"
   ]
  },
  {
   "cell_type": "code",
   "execution_count": 24,
   "id": "125f1493-86da-49d3-805b-e8b71af0f34f",
   "metadata": {},
   "outputs": [
    {
     "data": {
      "text/plain": [
       "2020-01-05   -0.725464\n",
       "2020-01-10    2.243310\n",
       "2020-01-15   -2.113948\n",
       "dtype: float64"
      ]
     },
     "execution_count": 24,
     "metadata": {},
     "output_type": "execute_result"
    }
   ],
   "source": [
    "ts.truncate(after=\"1/15/20\")"
   ]
  },
  {
   "cell_type": "code",
   "execution_count": 25,
   "id": "db07e257-9dad-4fc9-b6ce-63c8c2fc139c",
   "metadata": {},
   "outputs": [],
   "source": [
    "date=pd.date_range(\"1/1/2020\",\n",
    "                   periods=100,\n",
    "                   freq=\"W-SUN\")\n",
    "#Frekans olarak haftalık pazar günleri."
   ]
  },
  {
   "cell_type": "code",
   "execution_count": 26,
   "id": "5cda9b4a-12de-47b9-aabc-671139253992",
   "metadata": {},
   "outputs": [
    {
     "data": {
      "text/html": [
       "<div>\n",
       "<style scoped>\n",
       "    .dataframe tbody tr th:only-of-type {\n",
       "        vertical-align: middle;\n",
       "    }\n",
       "\n",
       "    .dataframe tbody tr th {\n",
       "        vertical-align: top;\n",
       "    }\n",
       "\n",
       "    .dataframe thead th {\n",
       "        text-align: right;\n",
       "    }\n",
       "</style>\n",
       "<table border=\"1\" class=\"dataframe\">\n",
       "  <thead>\n",
       "    <tr style=\"text-align: right;\">\n",
       "      <th></th>\n",
       "      <th>A</th>\n",
       "      <th>B</th>\n",
       "      <th>C</th>\n",
       "      <th>D</th>\n",
       "    </tr>\n",
       "  </thead>\n",
       "  <tbody>\n",
       "    <tr>\n",
       "      <th>2020-01-05</th>\n",
       "      <td>0.722271</td>\n",
       "      <td>-1.200132</td>\n",
       "      <td>0.210991</td>\n",
       "      <td>2.111678</td>\n",
       "    </tr>\n",
       "    <tr>\n",
       "      <th>2020-01-12</th>\n",
       "      <td>0.279522</td>\n",
       "      <td>-0.562225</td>\n",
       "      <td>-0.072408</td>\n",
       "      <td>-0.729355</td>\n",
       "    </tr>\n",
       "    <tr>\n",
       "      <th>2020-01-19</th>\n",
       "      <td>0.078482</td>\n",
       "      <td>0.702421</td>\n",
       "      <td>-0.027911</td>\n",
       "      <td>0.539779</td>\n",
       "    </tr>\n",
       "    <tr>\n",
       "      <th>2020-01-26</th>\n",
       "      <td>-0.791702</td>\n",
       "      <td>-0.041269</td>\n",
       "      <td>0.302507</td>\n",
       "      <td>0.915190</td>\n",
       "    </tr>\n",
       "    <tr>\n",
       "      <th>2020-02-02</th>\n",
       "      <td>0.750998</td>\n",
       "      <td>-0.042905</td>\n",
       "      <td>0.661373</td>\n",
       "      <td>-0.714174</td>\n",
       "    </tr>\n",
       "    <tr>\n",
       "      <th>...</th>\n",
       "      <td>...</td>\n",
       "      <td>...</td>\n",
       "      <td>...</td>\n",
       "      <td>...</td>\n",
       "    </tr>\n",
       "    <tr>\n",
       "      <th>2021-10-31</th>\n",
       "      <td>-0.383309</td>\n",
       "      <td>-0.871797</td>\n",
       "      <td>0.888292</td>\n",
       "      <td>0.658152</td>\n",
       "    </tr>\n",
       "    <tr>\n",
       "      <th>2021-11-07</th>\n",
       "      <td>-0.654462</td>\n",
       "      <td>-0.566114</td>\n",
       "      <td>-1.288055</td>\n",
       "      <td>0.965216</td>\n",
       "    </tr>\n",
       "    <tr>\n",
       "      <th>2021-11-14</th>\n",
       "      <td>-0.070934</td>\n",
       "      <td>-0.710807</td>\n",
       "      <td>-0.988605</td>\n",
       "      <td>-1.644835</td>\n",
       "    </tr>\n",
       "    <tr>\n",
       "      <th>2021-11-21</th>\n",
       "      <td>-0.577140</td>\n",
       "      <td>-0.609960</td>\n",
       "      <td>0.170125</td>\n",
       "      <td>0.983523</td>\n",
       "    </tr>\n",
       "    <tr>\n",
       "      <th>2021-11-28</th>\n",
       "      <td>-0.382326</td>\n",
       "      <td>0.240616</td>\n",
       "      <td>-1.060411</td>\n",
       "      <td>-0.062942</td>\n",
       "    </tr>\n",
       "  </tbody>\n",
       "</table>\n",
       "<p>100 rows × 4 columns</p>\n",
       "</div>"
      ],
      "text/plain": [
       "                   A         B         C         D\n",
       "2020-01-05  0.722271 -1.200132  0.210991  2.111678\n",
       "2020-01-12  0.279522 -0.562225 -0.072408 -0.729355\n",
       "2020-01-19  0.078482  0.702421 -0.027911  0.539779\n",
       "2020-01-26 -0.791702 -0.041269  0.302507  0.915190\n",
       "2020-02-02  0.750998 -0.042905  0.661373 -0.714174\n",
       "...              ...       ...       ...       ...\n",
       "2021-10-31 -0.383309 -0.871797  0.888292  0.658152\n",
       "2021-11-07 -0.654462 -0.566114 -1.288055  0.965216\n",
       "2021-11-14 -0.070934 -0.710807 -0.988605 -1.644835\n",
       "2021-11-21 -0.577140 -0.609960  0.170125  0.983523\n",
       "2021-11-28 -0.382326  0.240616 -1.060411 -0.062942\n",
       "\n",
       "[100 rows x 4 columns]"
      ]
     },
     "execution_count": 26,
     "metadata": {},
     "output_type": "execute_result"
    }
   ],
   "source": [
    "long_df=pd.DataFrame(np.random.randn(100,4),\n",
    "                    index=date,\n",
    "                    columns=list(\"ABCD\"))\n",
    "long_df"
   ]
  },
  {
   "cell_type": "code",
   "execution_count": 28,
   "id": "3a325639-101b-40bf-96c1-55b29b8e6a7a",
   "metadata": {},
   "outputs": [
    {
     "name": "stderr",
     "output_type": "stream",
     "text": [
      "C:\\Users\\burak\\AppData\\Local\\Temp\\ipykernel_1104\\3443469286.py:1: FutureWarning: Indexing a DataFrame with a datetimelike index using a single string to slice the rows, like `frame[string]`, is deprecated and will be removed in a future version. Use `frame.loc[string]` instead.\n",
      "  long_df[\"2020-10\"]\n"
     ]
    },
    {
     "data": {
      "text/html": [
       "<div>\n",
       "<style scoped>\n",
       "    .dataframe tbody tr th:only-of-type {\n",
       "        vertical-align: middle;\n",
       "    }\n",
       "\n",
       "    .dataframe tbody tr th {\n",
       "        vertical-align: top;\n",
       "    }\n",
       "\n",
       "    .dataframe thead th {\n",
       "        text-align: right;\n",
       "    }\n",
       "</style>\n",
       "<table border=\"1\" class=\"dataframe\">\n",
       "  <thead>\n",
       "    <tr style=\"text-align: right;\">\n",
       "      <th></th>\n",
       "      <th>A</th>\n",
       "      <th>B</th>\n",
       "      <th>C</th>\n",
       "      <th>D</th>\n",
       "    </tr>\n",
       "  </thead>\n",
       "  <tbody>\n",
       "    <tr>\n",
       "      <th>2020-10-04</th>\n",
       "      <td>-0.614886</td>\n",
       "      <td>0.077693</td>\n",
       "      <td>0.075524</td>\n",
       "      <td>1.007424</td>\n",
       "    </tr>\n",
       "    <tr>\n",
       "      <th>2020-10-11</th>\n",
       "      <td>-1.211895</td>\n",
       "      <td>0.035939</td>\n",
       "      <td>-1.516686</td>\n",
       "      <td>-0.998715</td>\n",
       "    </tr>\n",
       "    <tr>\n",
       "      <th>2020-10-18</th>\n",
       "      <td>-0.008162</td>\n",
       "      <td>1.236021</td>\n",
       "      <td>0.768711</td>\n",
       "      <td>0.201159</td>\n",
       "    </tr>\n",
       "    <tr>\n",
       "      <th>2020-10-25</th>\n",
       "      <td>0.458592</td>\n",
       "      <td>0.186332</td>\n",
       "      <td>0.051784</td>\n",
       "      <td>0.209372</td>\n",
       "    </tr>\n",
       "  </tbody>\n",
       "</table>\n",
       "</div>"
      ],
      "text/plain": [
       "                   A         B         C         D\n",
       "2020-10-04 -0.614886  0.077693  0.075524  1.007424\n",
       "2020-10-11 -1.211895  0.035939 -1.516686 -0.998715\n",
       "2020-10-18 -0.008162  1.236021  0.768711  0.201159\n",
       "2020-10-25  0.458592  0.186332  0.051784  0.209372"
      ]
     },
     "execution_count": 28,
     "metadata": {},
     "output_type": "execute_result"
    }
   ],
   "source": [
    "long_df[\"2020-10\"]"
   ]
  },
  {
   "cell_type": "code",
   "execution_count": 29,
   "id": "e7b6ed46-474a-4fa4-a581-12bfbdfae90c",
   "metadata": {},
   "outputs": [
    {
     "data": {
      "text/plain": [
       "2020-01-01    0\n",
       "2020-01-02    1\n",
       "2020-01-02    2\n",
       "2020-01-02    3\n",
       "2020-01-03    4\n",
       "dtype: int32"
      ]
     },
     "execution_count": 29,
     "metadata": {},
     "output_type": "execute_result"
    }
   ],
   "source": [
    "date=pd.DatetimeIndex(\n",
    "    [\"1/1/2020\",\"1/2/2020\",\"1/2/2020\",\n",
    "     \"1/2/2020\",\"1/3/2020\"])\n",
    "ts1=pd.Series(np.arange(5),index=date)\n",
    "ts1"
   ]
  },
  {
   "cell_type": "code",
   "execution_count": 31,
   "id": "96a87065-c657-4065-b1db-01823db0aba3",
   "metadata": {},
   "outputs": [
    {
     "data": {
      "text/plain": [
       "False"
      ]
     },
     "execution_count": 31,
     "metadata": {},
     "output_type": "execute_result"
    }
   ],
   "source": [
    "ts1.index.is_unique \n",
    "#False değeri tekarar eden indeksler olduğunu ifade eder."
   ]
  },
  {
   "cell_type": "code",
   "execution_count": 32,
   "id": "c73801ba-0537-43b1-be70-0b733341a6ad",
   "metadata": {},
   "outputs": [],
   "source": [
    "group=ts1.groupby(level=0) "
   ]
  },
  {
   "cell_type": "code",
   "execution_count": 34,
   "id": "ed261812-e05b-4c3e-9702-906be9e479ef",
   "metadata": {},
   "outputs": [
    {
     "data": {
      "text/plain": [
       "2020-01-01    1\n",
       "2020-01-02    3\n",
       "2020-01-03    1\n",
       "dtype: int64"
      ]
     },
     "execution_count": 34,
     "metadata": {},
     "output_type": "execute_result"
    }
   ],
   "source": [
    "group.count()\n",
    "#gruplanmış tarihlerin kaçar kez tekrar ettiğini görüyoruz."
   ]
  },
  {
   "cell_type": "code",
   "execution_count": 35,
   "id": "9868b613-3546-4883-bec3-0b012ba8235a",
   "metadata": {},
   "outputs": [
    {
     "data": {
      "text/plain": [
       "2020-01-01    0.0\n",
       "2020-01-02    2.0\n",
       "2020-01-03    4.0\n",
       "dtype: float64"
      ]
     },
     "execution_count": 35,
     "metadata": {},
     "output_type": "execute_result"
    }
   ],
   "source": [
    "group.mean()"
   ]
  },
  {
   "cell_type": "code",
   "execution_count": null,
   "id": "d2b03ebb-10f0-4bcd-ab53-fc39ccdfcc8c",
   "metadata": {},
   "outputs": [],
   "source": []
  },
  {
   "cell_type": "code",
   "execution_count": null,
   "id": "ec783b3d-a6e5-4b05-981a-4091cbcde2aa",
   "metadata": {},
   "outputs": [],
   "source": []
  },
  {
   "cell_type": "code",
   "execution_count": null,
   "id": "6de8c6cf-2cf0-4f8f-a7f4-57582999c344",
   "metadata": {},
   "outputs": [],
   "source": []
  },
  {
   "cell_type": "code",
   "execution_count": null,
   "id": "e6782d7b-1e41-4f5c-97d5-9aa112e09b4a",
   "metadata": {},
   "outputs": [],
   "source": []
  }
 ],
 "metadata": {
  "kernelspec": {
   "display_name": "Python 3 (ipykernel)",
   "language": "python",
   "name": "python3"
  },
  "language_info": {
   "codemirror_mode": {
    "name": "ipython",
    "version": 3
   },
   "file_extension": ".py",
   "mimetype": "text/x-python",
   "name": "python",
   "nbconvert_exporter": "python",
   "pygments_lexer": "ipython3",
   "version": "3.9.12"
  }
 },
 "nbformat": 4,
 "nbformat_minor": 5
}
